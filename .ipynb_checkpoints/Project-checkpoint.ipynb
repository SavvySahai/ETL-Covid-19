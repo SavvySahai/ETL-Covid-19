{
 "cells": [
  {
   "cell_type": "code",
   "execution_count": 1,
   "id": "f572627e",
   "metadata": {},
   "outputs": [],
   "source": [
    "#importing all the libraries that are required for the project\n",
    "#we will be working with integrating pyspark with hdfs to read the files.\n",
    "#then putting the output data in MySql.\n",
    "#and finally visualising the data using grafana"
   ]
  },
  {
   "cell_type": "code",
   "execution_count": 2,
   "id": "b1909999",
   "metadata": {},
   "outputs": [],
   "source": [
    "import pyspark\n",
    "from pyspark.sql import SparkSession\n",
    "from pyspark.sql.types import StructField,IntegerType, StructType,StringType\n",
    "import functools\n",
    "from pyspark.sql.functions import monotonically_increasing_id\n",
    "from pyspark.sql.functions import col"
   ]
  },
  {
   "cell_type": "code",
   "execution_count": 3,
   "id": "5e79f5d1",
   "metadata": {},
   "outputs": [
    {
     "name": "stdout",
     "output_type": "stream",
     "text": [
      "23/04/05 10:35:11 WARN NativeCodeLoader: Unable to load native-hadoop library for your platform... using builtin-java classes where applicable\n"
     ]
    },
    {
     "name": "stderr",
     "output_type": "stream",
     "text": [
      "Setting default log level to \"WARN\".\n",
      "To adjust logging level use sc.setLogLevel(newLevel). For SparkR, use setLogLevel(newLevel).\n"
     ]
    }
   ],
   "source": [
    "spark = SparkSession.builder \\\n",
    "        .config(\"spark.jars\",\"/home/savvy/Downloads/mysql-connector-j-8.0.32/mysql-connector-j-8.0.32.jar\") \\\n",
    "        .appName(\"reading2\") \\\n",
    "        .getOrCreate()"
   ]
  },
  {
   "cell_type": "code",
   "execution_count": 4,
   "id": "e1345aa3",
   "metadata": {},
   "outputs": [
    {
     "name": "stdout",
     "output_type": "stream",
     "text": [
      "Vector(spark://localhost:43899/jars/mysql-connector-j-8.0.32.jar)\n"
     ]
    }
   ],
   "source": [
    "print(spark.sparkContext._jsc.sc().listJars())"
   ]
  },
  {
   "cell_type": "code",
   "execution_count": 5,
   "id": "d6e0d8b5",
   "metadata": {},
   "outputs": [
    {
     "name": "stdout",
     "output_type": "stream",
     "text": [
      "<SparkContext master=local[*] appName=reading2>\n"
     ]
    }
   ],
   "source": [
    "print(spark.sparkContext)"
   ]
  },
  {
   "cell_type": "code",
   "execution_count": 6,
   "id": "2026eb05",
   "metadata": {},
   "outputs": [
    {
     "name": "stdout",
     "output_type": "stream",
     "text": [
      "+----------+-----------+---------+---------+------+\n",
      "|      Date|    Country|Confirmed|Recovered|Deaths|\n",
      "+----------+-----------+---------+---------+------+\n",
      "|2020-01-22|Afghanistan|        0|        0|     0|\n",
      "|2020-01-23|Afghanistan|        0|        0|     0|\n",
      "|2020-01-24|Afghanistan|        0|        0|     0|\n",
      "|2020-01-25|Afghanistan|        0|        0|     0|\n",
      "|2020-01-26|Afghanistan|        0|        0|     0|\n",
      "|2020-01-27|Afghanistan|        0|        0|     0|\n",
      "|2020-01-28|Afghanistan|        0|        0|     0|\n",
      "|2020-01-29|Afghanistan|        0|        0|     0|\n",
      "|2020-01-30|Afghanistan|        0|        0|     0|\n",
      "|2020-01-31|Afghanistan|        0|        0|     0|\n",
      "|2020-02-01|Afghanistan|        0|        0|     0|\n",
      "|2020-02-02|Afghanistan|        0|        0|     0|\n",
      "|2020-02-03|Afghanistan|        0|        0|     0|\n",
      "|2020-02-04|Afghanistan|        0|        0|     0|\n",
      "|2020-02-05|Afghanistan|        0|        0|     0|\n",
      "|2020-02-06|Afghanistan|        0|        0|     0|\n",
      "|2020-02-07|Afghanistan|        0|        0|     0|\n",
      "|2020-02-08|Afghanistan|        0|        0|     0|\n",
      "|2020-02-09|Afghanistan|        0|        0|     0|\n",
      "|2020-02-10|Afghanistan|        0|        0|     0|\n",
      "+----------+-----------+---------+---------+------+\n",
      "only showing top 20 rows\n",
      "\n"
     ]
    }
   ],
   "source": [
    "readData = spark.read.csv(\"hdfs://localhost:9000/savvy/\", header='true')\n",
    "readData.show()"
   ]
  },
  {
   "cell_type": "code",
   "execution_count": 7,
   "id": "10a0ff10",
   "metadata": {},
   "outputs": [
    {
     "name": "stderr",
     "output_type": "stream",
     "text": [
      "\r",
      "[Stage 2:>                                                          (0 + 1) / 1]\r"
     ]
    },
    {
     "name": "stdout",
     "output_type": "stream",
     "text": [
      "+-----------+-----+\n",
      "|    Country|count|\n",
      "+-----------+-----+\n",
      "|       Chad|  476|\n",
      "|   Paraguay|  476|\n",
      "|     Russia|  476|\n",
      "|      Yemen|  476|\n",
      "|    Senegal|  476|\n",
      "| Cabo Verde|  476|\n",
      "|     Sweden|  476|\n",
      "|     Guyana|  476|\n",
      "|      Burma|  476|\n",
      "|    Eritrea|  476|\n",
      "|Philippines|  476|\n",
      "|   Djibouti|  476|\n",
      "|   Malaysia|  476|\n",
      "|  Singapore|  476|\n",
      "|       Fiji|  476|\n",
      "|     Turkey|  476|\n",
      "|     Malawi|  476|\n",
      "|       Iraq|  476|\n",
      "|    Germany|  476|\n",
      "|    Comoros|  476|\n",
      "+-----------+-----+\n",
      "only showing top 20 rows\n",
      "\n"
     ]
    },
    {
     "name": "stderr",
     "output_type": "stream",
     "text": [
      "\r",
      "                                                                                \r"
     ]
    }
   ],
   "source": [
    "readData.groupBy(\"Country\").count().show()"
   ]
  },
  {
   "cell_type": "code",
   "execution_count": 8,
   "id": "fa6e703b",
   "metadata": {
    "scrolled": true
   },
   "outputs": [
    {
     "ename": "AnalysisException",
     "evalue": "\"Confirmed\" is not a numeric column. Aggregation function can only be applied on a numeric column.",
     "output_type": "error",
     "traceback": [
      "\u001b[0;31m---------------------------------------------------------------------------\u001b[0m",
      "\u001b[0;31mAnalysisException\u001b[0m                         Traceback (most recent call last)",
      "Cell \u001b[0;32mIn[8], line 1\u001b[0m\n\u001b[0;32m----> 1\u001b[0m \u001b[43mreadData\u001b[49m\u001b[38;5;241;43m.\u001b[39;49m\u001b[43mgroupBy\u001b[49m\u001b[43m(\u001b[49m\u001b[38;5;124;43m\"\u001b[39;49m\u001b[38;5;124;43mCountry\u001b[39;49m\u001b[38;5;124;43m\"\u001b[39;49m\u001b[43m)\u001b[49m\u001b[38;5;241;43m.\u001b[39;49m\u001b[43msum\u001b[49m\u001b[43m(\u001b[49m\u001b[38;5;124;43m\"\u001b[39;49m\u001b[38;5;124;43mConfirmed\u001b[39;49m\u001b[38;5;124;43m\"\u001b[39;49m\u001b[43m)\u001b[49m\u001b[38;5;241m.\u001b[39mshow()\n",
      "File \u001b[0;32m~/spark-3.3.2-bin-hadoop3/python/lib/pyspark.zip/pyspark/sql/group.py:50\u001b[0m, in \u001b[0;36mdf_varargs_api.<locals>._api\u001b[0;34m(self, *cols)\u001b[0m\n\u001b[1;32m     48\u001b[0m \u001b[38;5;28;01mdef\u001b[39;00m \u001b[38;5;21m_api\u001b[39m(\u001b[38;5;28mself\u001b[39m: \u001b[38;5;124m\"\u001b[39m\u001b[38;5;124mGroupedData\u001b[39m\u001b[38;5;124m\"\u001b[39m, \u001b[38;5;241m*\u001b[39mcols: \u001b[38;5;28mstr\u001b[39m) \u001b[38;5;241m-\u001b[39m\u001b[38;5;241m>\u001b[39m DataFrame:\n\u001b[1;32m     49\u001b[0m     name \u001b[38;5;241m=\u001b[39m f\u001b[38;5;241m.\u001b[39m\u001b[38;5;18m__name__\u001b[39m\n\u001b[0;32m---> 50\u001b[0m     jdf \u001b[38;5;241m=\u001b[39m \u001b[38;5;28;43mgetattr\u001b[39;49m\u001b[43m(\u001b[49m\u001b[38;5;28;43mself\u001b[39;49m\u001b[38;5;241;43m.\u001b[39;49m\u001b[43m_jgd\u001b[49m\u001b[43m,\u001b[49m\u001b[43m \u001b[49m\u001b[43mname\u001b[49m\u001b[43m)\u001b[49m\u001b[43m(\u001b[49m\u001b[43m_to_seq\u001b[49m\u001b[43m(\u001b[49m\u001b[38;5;28;43mself\u001b[39;49m\u001b[38;5;241;43m.\u001b[39;49m\u001b[43msession\u001b[49m\u001b[38;5;241;43m.\u001b[39;49m\u001b[43m_sc\u001b[49m\u001b[43m,\u001b[49m\u001b[43m \u001b[49m\u001b[43mcols\u001b[49m\u001b[43m)\u001b[49m\u001b[43m)\u001b[49m\n\u001b[1;32m     51\u001b[0m     \u001b[38;5;28;01mreturn\u001b[39;00m DataFrame(jdf, \u001b[38;5;28mself\u001b[39m\u001b[38;5;241m.\u001b[39msession)\n",
      "File \u001b[0;32m~/spark-3.3.2-bin-hadoop3/python/lib/py4j-0.10.9.5-src.zip/py4j/java_gateway.py:1321\u001b[0m, in \u001b[0;36mJavaMember.__call__\u001b[0;34m(self, *args)\u001b[0m\n\u001b[1;32m   1315\u001b[0m command \u001b[38;5;241m=\u001b[39m proto\u001b[38;5;241m.\u001b[39mCALL_COMMAND_NAME \u001b[38;5;241m+\u001b[39m\\\n\u001b[1;32m   1316\u001b[0m     \u001b[38;5;28mself\u001b[39m\u001b[38;5;241m.\u001b[39mcommand_header \u001b[38;5;241m+\u001b[39m\\\n\u001b[1;32m   1317\u001b[0m     args_command \u001b[38;5;241m+\u001b[39m\\\n\u001b[1;32m   1318\u001b[0m     proto\u001b[38;5;241m.\u001b[39mEND_COMMAND_PART\n\u001b[1;32m   1320\u001b[0m answer \u001b[38;5;241m=\u001b[39m \u001b[38;5;28mself\u001b[39m\u001b[38;5;241m.\u001b[39mgateway_client\u001b[38;5;241m.\u001b[39msend_command(command)\n\u001b[0;32m-> 1321\u001b[0m return_value \u001b[38;5;241m=\u001b[39m \u001b[43mget_return_value\u001b[49m\u001b[43m(\u001b[49m\n\u001b[1;32m   1322\u001b[0m \u001b[43m    \u001b[49m\u001b[43manswer\u001b[49m\u001b[43m,\u001b[49m\u001b[43m \u001b[49m\u001b[38;5;28;43mself\u001b[39;49m\u001b[38;5;241;43m.\u001b[39;49m\u001b[43mgateway_client\u001b[49m\u001b[43m,\u001b[49m\u001b[43m \u001b[49m\u001b[38;5;28;43mself\u001b[39;49m\u001b[38;5;241;43m.\u001b[39;49m\u001b[43mtarget_id\u001b[49m\u001b[43m,\u001b[49m\u001b[43m \u001b[49m\u001b[38;5;28;43mself\u001b[39;49m\u001b[38;5;241;43m.\u001b[39;49m\u001b[43mname\u001b[49m\u001b[43m)\u001b[49m\n\u001b[1;32m   1324\u001b[0m \u001b[38;5;28;01mfor\u001b[39;00m temp_arg \u001b[38;5;129;01min\u001b[39;00m temp_args:\n\u001b[1;32m   1325\u001b[0m     temp_arg\u001b[38;5;241m.\u001b[39m_detach()\n",
      "File \u001b[0;32m~/spark-3.3.2-bin-hadoop3/python/lib/pyspark.zip/pyspark/sql/utils.py:196\u001b[0m, in \u001b[0;36mcapture_sql_exception.<locals>.deco\u001b[0;34m(*a, **kw)\u001b[0m\n\u001b[1;32m    192\u001b[0m converted \u001b[38;5;241m=\u001b[39m convert_exception(e\u001b[38;5;241m.\u001b[39mjava_exception)\n\u001b[1;32m    193\u001b[0m \u001b[38;5;28;01mif\u001b[39;00m \u001b[38;5;129;01mnot\u001b[39;00m \u001b[38;5;28misinstance\u001b[39m(converted, UnknownException):\n\u001b[1;32m    194\u001b[0m     \u001b[38;5;66;03m# Hide where the exception came from that shows a non-Pythonic\u001b[39;00m\n\u001b[1;32m    195\u001b[0m     \u001b[38;5;66;03m# JVM exception message.\u001b[39;00m\n\u001b[0;32m--> 196\u001b[0m     \u001b[38;5;28;01mraise\u001b[39;00m converted \u001b[38;5;28;01mfrom\u001b[39;00m \u001b[38;5;28mNone\u001b[39m\n\u001b[1;32m    197\u001b[0m \u001b[38;5;28;01melse\u001b[39;00m:\n\u001b[1;32m    198\u001b[0m     \u001b[38;5;28;01mraise\u001b[39;00m\n",
      "\u001b[0;31mAnalysisException\u001b[0m: \"Confirmed\" is not a numeric column. Aggregation function can only be applied on a numeric column."
     ]
    }
   ],
   "source": [
    "#error\n",
    "readData.groupBy(\"Country\").sum(\"Confirmed\").show()"
   ]
  },
  {
   "cell_type": "code",
   "execution_count": 9,
   "id": "5c02ebc4",
   "metadata": {},
   "outputs": [
    {
     "name": "stdout",
     "output_type": "stream",
     "text": [
      "root\n",
      " |-- Date: string (nullable = true)\n",
      " |-- Country: string (nullable = true)\n",
      " |-- Confirmed: string (nullable = true)\n",
      " |-- Recovered: string (nullable = true)\n",
      " |-- Deaths: string (nullable = true)\n",
      "\n"
     ]
    }
   ],
   "source": [
    "readData.printSchema()"
   ]
  },
  {
   "cell_type": "code",
   "execution_count": 10,
   "id": "c384798e",
   "metadata": {},
   "outputs": [],
   "source": [
    "df =[StructField('Date',IntegerType(),True),\n",
    "       StructField('Country',StringType(),True),\n",
    "       StructField('Confirmed',IntegerType(),True),\n",
    "       StructField('Recovered',IntegerType(),True),\n",
    "       StructField('Deaths',IntegerType(),True),\n",
    "       ]\n",
    "\n",
    "finalStruct=StructType(fields=df)\n",
    "readData2=spark.read.csv('hdfs://localhost:9000/savvy/',schema=finalStruct)"
   ]
  },
  {
   "cell_type": "code",
   "execution_count": 11,
   "id": "21027136",
   "metadata": {},
   "outputs": [
    {
     "name": "stdout",
     "output_type": "stream",
     "text": [
      "root\n",
      " |-- Date: integer (nullable = true)\n",
      " |-- Country: string (nullable = true)\n",
      " |-- Confirmed: integer (nullable = true)\n",
      " |-- Recovered: integer (nullable = true)\n",
      " |-- Deaths: integer (nullable = true)\n",
      "\n"
     ]
    }
   ],
   "source": [
    "readData2.printSchema()"
   ]
  },
  {
   "cell_type": "code",
   "execution_count": 12,
   "id": "f7467fc7",
   "metadata": {},
   "outputs": [
    {
     "name": "stdout",
     "output_type": "stream",
     "text": [
      "+-----------+--------------+\n",
      "|    Country|sum(Confirmed)|\n",
      "+-----------+--------------+\n",
      "|       Chad|        795278|\n",
      "|   Paraguay|      32348042|\n",
      "|     Russia|     841949638|\n",
      "|      Yemen|        842988|\n",
      "|    Senegal|       7155286|\n",
      "| Cabo Verde|       3421969|\n",
      "|     Sweden|     123238302|\n",
      "|     Guyana|       1784186|\n",
      "|      Burma|      25139944|\n",
      "|    Eritrea|        452505|\n",
      "|Philippines|     143412277|\n",
      "|   Djibouti|       2180594|\n",
      "|   Malaysia|      44562079|\n",
      "|  Singapore|      20365406|\n",
      "|       Fiji|         16704|\n",
      "|     Turkey|     526056925|\n",
      "|     Malawi|       4618570|\n",
      "|       Iraq|     166448684|\n",
      "|    Germany|     458729889|\n",
      "|    Comoros|        510069|\n",
      "+-----------+--------------+\n",
      "only showing top 20 rows\n",
      "\n"
     ]
    }
   ],
   "source": [
    "df1 = readData2.groupBy(\"Country\").sum(\"Confirmed\")\n",
    "df1.show()"
   ]
  },
  {
   "cell_type": "code",
   "execution_count": 13,
   "id": "07a90fb9",
   "metadata": {},
   "outputs": [
    {
     "name": "stdout",
     "output_type": "stream",
     "text": [
      "+-----------+--------------+\n",
      "|    Country|sum(Recovered)|\n",
      "+-----------+--------------+\n",
      "|       Chad|        686509|\n",
      "|   Paraguay|      25368413|\n",
      "|     Russia|     708948906|\n",
      "|      Yemen|        449502|\n",
      "|    Senegal|       6198659|\n",
      "| Cabo Verde|       3106429|\n",
      "|     Sweden|             0|\n",
      "|     Guyana|       1502459|\n",
      "|      Burma|      21680411|\n",
      "|    Eritrea|        374647|\n",
      "|Philippines|     123141517|\n",
      "|   Djibouti|       2017792|\n",
      "|   Malaysia|      39433161|\n",
      "|  Singapore|      19033712|\n",
      "|       Fiji|         13850|\n",
      "|     Turkey|     474413925|\n",
      "|     Malawi|       3414729|\n",
      "|       Iraq|     145843021|\n",
      "|    Germany|     392664956|\n",
      "|    Comoros|        454618|\n",
      "+-----------+--------------+\n",
      "only showing top 20 rows\n",
      "\n"
     ]
    }
   ],
   "source": [
    "df2 = readData2.groupBy(\"Country\").sum(\"Recovered\")\n",
    "df2.show()"
   ]
  },
  {
   "cell_type": "code",
   "execution_count": 14,
   "id": "962bef3c",
   "metadata": {},
   "outputs": [
    {
     "name": "stdout",
     "output_type": "stream",
     "text": [
      "+-----------+-----------+\n",
      "|    Country|sum(Deaths)|\n",
      "+-----------+-----------+\n",
      "|       Chad|      38341|\n",
      "|   Paraguay|     673403|\n",
      "|     Russia|   16283420|\n",
      "|      Yemen|     214212|\n",
      "|    Senegal|     167476|\n",
      "| Cabo Verde|      33154|\n",
      "|     Sweden|    3078055|\n",
      "|     Guyana|      44787|\n",
      "|      Burma|     559260|\n",
      "|    Eritrea|       1041|\n",
      "|Philippines|    2735101|\n",
      "|   Djibouti|      23073|\n",
      "|   Malaysia|     191494|\n",
      "|  Singapore|      10665|\n",
      "|       Fiji|        549|\n",
      "|     Turkey|    6019058|\n",
      "|     Malawi|     146534|\n",
      "|       Iraq|    3442246|\n",
      "|    Germany|   11797190|\n",
      "|    Comoros|      16892|\n",
      "+-----------+-----------+\n",
      "only showing top 20 rows\n",
      "\n"
     ]
    }
   ],
   "source": [
    "df3 = readData2.groupBy(\"Country\").sum(\"Deaths\")\n",
    "df3.show()"
   ]
  },
  {
   "cell_type": "code",
   "execution_count": 15,
   "id": "3550b34e",
   "metadata": {},
   "outputs": [
    {
     "name": "stdout",
     "output_type": "stream",
     "text": [
      "+-----------+--------------+\n",
      "|    Country|sum(Confirmed)|\n",
      "+-----------+--------------+\n",
      "|       Chad|        795278|\n",
      "|   Paraguay|      32348042|\n",
      "|     Russia|     841949638|\n",
      "|      Yemen|        842988|\n",
      "|    Senegal|       7155286|\n",
      "| Cabo Verde|       3421969|\n",
      "|     Sweden|     123238302|\n",
      "|     Guyana|       1784186|\n",
      "|      Burma|      25139944|\n",
      "|    Eritrea|        452505|\n",
      "|Philippines|     143412277|\n",
      "|   Djibouti|       2180594|\n",
      "|   Malaysia|      44562079|\n",
      "|  Singapore|      20365406|\n",
      "|       Fiji|         16704|\n",
      "|     Turkey|     526056925|\n",
      "|     Malawi|       4618570|\n",
      "|       Iraq|     166448684|\n",
      "|    Germany|     458729889|\n",
      "|    Comoros|        510069|\n",
      "+-----------+--------------+\n",
      "only showing top 20 rows\n",
      "\n"
     ]
    }
   ],
   "source": [
    "main_df = df1.union(df2).union(df3)\n",
    "main_df.show()"
   ]
  },
  {
   "cell_type": "code",
   "execution_count": 16,
   "id": "765a2da8",
   "metadata": {},
   "outputs": [
    {
     "name": "stdout",
     "output_type": "stream",
     "text": [
      "+-----------+--------------+---+\n",
      "|    Country|sum(Confirmed)| id|\n",
      "+-----------+--------------+---+\n",
      "|       Chad|        795278|  0|\n",
      "|   Paraguay|      32348042|  1|\n",
      "|     Russia|     841949638|  2|\n",
      "|      Yemen|        842988|  3|\n",
      "|    Senegal|       7155286|  4|\n",
      "| Cabo Verde|       3421969|  5|\n",
      "|     Sweden|     123238302|  6|\n",
      "|     Guyana|       1784186|  7|\n",
      "|      Burma|      25139944|  8|\n",
      "|    Eritrea|        452505|  9|\n",
      "|Philippines|     143412277| 10|\n",
      "|   Djibouti|       2180594| 11|\n",
      "|   Malaysia|      44562079| 12|\n",
      "|  Singapore|      20365406| 13|\n",
      "|       Fiji|         16704| 14|\n",
      "|     Turkey|     526056925| 15|\n",
      "|     Malawi|       4618570| 16|\n",
      "|       Iraq|     166448684| 17|\n",
      "|    Germany|     458729889| 18|\n",
      "|    Comoros|        510069| 19|\n",
      "+-----------+--------------+---+\n",
      "only showing top 20 rows\n",
      "\n",
      "+-----------+--------------+---+\n",
      "|    Country|sum(Recovered)| id|\n",
      "+-----------+--------------+---+\n",
      "|       Chad|        686509|  0|\n",
      "|   Paraguay|      25368413|  1|\n",
      "|     Russia|     708948906|  2|\n",
      "|      Yemen|        449502|  3|\n",
      "|    Senegal|       6198659|  4|\n",
      "| Cabo Verde|       3106429|  5|\n",
      "|     Sweden|             0|  6|\n",
      "|     Guyana|       1502459|  7|\n",
      "|      Burma|      21680411|  8|\n",
      "|    Eritrea|        374647|  9|\n",
      "|Philippines|     123141517| 10|\n",
      "|   Djibouti|       2017792| 11|\n",
      "|   Malaysia|      39433161| 12|\n",
      "|  Singapore|      19033712| 13|\n",
      "|       Fiji|         13850| 14|\n",
      "|     Turkey|     474413925| 15|\n",
      "|     Malawi|       3414729| 16|\n",
      "|       Iraq|     145843021| 17|\n",
      "|    Germany|     392664956| 18|\n",
      "|    Comoros|        454618| 19|\n",
      "+-----------+--------------+---+\n",
      "only showing top 20 rows\n",
      "\n",
      "+-----------+-----------+---+\n",
      "|    Country|sum(Deaths)| id|\n",
      "+-----------+-----------+---+\n",
      "|       Chad|      38341|  0|\n",
      "|   Paraguay|     673403|  1|\n",
      "|     Russia|   16283420|  2|\n",
      "|      Yemen|     214212|  3|\n",
      "|    Senegal|     167476|  4|\n",
      "| Cabo Verde|      33154|  5|\n",
      "|     Sweden|    3078055|  6|\n",
      "|     Guyana|      44787|  7|\n",
      "|      Burma|     559260|  8|\n",
      "|    Eritrea|       1041|  9|\n",
      "|Philippines|    2735101| 10|\n",
      "|   Djibouti|      23073| 11|\n",
      "|   Malaysia|     191494| 12|\n",
      "|  Singapore|      10665| 13|\n",
      "|       Fiji|        549| 14|\n",
      "|     Turkey|    6019058| 15|\n",
      "|     Malawi|     146534| 16|\n",
      "|       Iraq|    3442246| 17|\n",
      "|    Germany|   11797190| 18|\n",
      "|    Comoros|      16892| 19|\n",
      "+-----------+-----------+---+\n",
      "only showing top 20 rows\n",
      "\n"
     ]
    }
   ],
   "source": [
    "#assigning ids to all the dataframes\n",
    "conf_df = df1.withColumn(\"id\",monotonically_increasing_id())\n",
    "conf_df.show()\n",
    "recov_df = df2.withColumn(\"id\", monotonically_increasing_id())\n",
    "recov_df.show()\n",
    "dea_df = df3.withColumn(\"id\",monotonically_increasing_id())\n",
    "dea_df.show()"
   ]
  },
  {
   "cell_type": "code",
   "execution_count": 17,
   "id": "843fc1b5",
   "metadata": {},
   "outputs": [
    {
     "name": "stdout",
     "output_type": "stream",
     "text": [
      "+-----------+--------------+---+-----------+--------------+---+\n",
      "|    Country|sum(Confirmed)| id|    Country|sum(Recovered)| id|\n",
      "+-----------+--------------+---+-----------+--------------+---+\n",
      "|       Chad|        795278|  0|       Chad|        686509|  0|\n",
      "|   Paraguay|      32348042|  1|   Paraguay|      25368413|  1|\n",
      "|     Russia|     841949638|  2|     Russia|     708948906|  2|\n",
      "|      Yemen|        842988|  3|      Yemen|        449502|  3|\n",
      "|    Senegal|       7155286|  4|    Senegal|       6198659|  4|\n",
      "| Cabo Verde|       3421969|  5| Cabo Verde|       3106429|  5|\n",
      "|     Sweden|     123238302|  6|     Sweden|             0|  6|\n",
      "|     Guyana|       1784186|  7|     Guyana|       1502459|  7|\n",
      "|      Burma|      25139944|  8|      Burma|      21680411|  8|\n",
      "|    Eritrea|        452505|  9|    Eritrea|        374647|  9|\n",
      "|Philippines|     143412277| 10|Philippines|     123141517| 10|\n",
      "|   Djibouti|       2180594| 11|   Djibouti|       2017792| 11|\n",
      "|   Malaysia|      44562079| 12|   Malaysia|      39433161| 12|\n",
      "|  Singapore|      20365406| 13|  Singapore|      19033712| 13|\n",
      "|       Fiji|         16704| 14|       Fiji|         13850| 14|\n",
      "|     Turkey|     526056925| 15|     Turkey|     474413925| 15|\n",
      "|     Malawi|       4618570| 16|     Malawi|       3414729| 16|\n",
      "|       Iraq|     166448684| 17|       Iraq|     145843021| 17|\n",
      "|    Germany|     458729889| 18|    Germany|     392664956| 18|\n",
      "|    Comoros|        510069| 19|    Comoros|        454618| 19|\n",
      "+-----------+--------------+---+-----------+--------------+---+\n",
      "only showing top 20 rows\n",
      "\n"
     ]
    }
   ],
   "source": [
    "#joining conf_df and recov_df with the key \"id\" using .join method\n",
    "conf_df.join(recov_df,conf_df[\"id\"] == recov_df[\"id\"]).show()\n",
    "\n",
    "#drop duplicate column from recov_df\n",
    "#conf_df.join(recov_df,[\"id\",\"Country\"]).show()"
   ]
  },
  {
   "cell_type": "code",
   "execution_count": 18,
   "id": "20ff983a",
   "metadata": {},
   "outputs": [
    {
     "name": "stdout",
     "output_type": "stream",
     "text": [
      "+---+-----------+--------------+-----------+--------------+-----------+-----------+---+\n",
      "| id|    Country|sum(Confirmed)|    Country|sum(Recovered)|    Country|sum(Deaths)| id|\n",
      "+---+-----------+--------------+-----------+--------------+-----------+-----------+---+\n",
      "|  0|       Chad|        795278|       Chad|        686509|       Chad|      38341|  0|\n",
      "|  1|   Paraguay|      32348042|   Paraguay|      25368413|   Paraguay|     673403|  1|\n",
      "|  2|     Russia|     841949638|     Russia|     708948906|     Russia|   16283420|  2|\n",
      "|  3|      Yemen|        842988|      Yemen|        449502|      Yemen|     214212|  3|\n",
      "|  4|    Senegal|       7155286|    Senegal|       6198659|    Senegal|     167476|  4|\n",
      "|  5| Cabo Verde|       3421969| Cabo Verde|       3106429| Cabo Verde|      33154|  5|\n",
      "|  6|     Sweden|     123238302|     Sweden|             0|     Sweden|    3078055|  6|\n",
      "|  7|     Guyana|       1784186|     Guyana|       1502459|     Guyana|      44787|  7|\n",
      "|  8|      Burma|      25139944|      Burma|      21680411|      Burma|     559260|  8|\n",
      "|  9|    Eritrea|        452505|    Eritrea|        374647|    Eritrea|       1041|  9|\n",
      "| 10|Philippines|     143412277|Philippines|     123141517|Philippines|    2735101| 10|\n",
      "| 11|   Djibouti|       2180594|   Djibouti|       2017792|   Djibouti|      23073| 11|\n",
      "| 12|   Malaysia|      44562079|   Malaysia|      39433161|   Malaysia|     191494| 12|\n",
      "| 13|  Singapore|      20365406|  Singapore|      19033712|  Singapore|      10665| 13|\n",
      "| 14|       Fiji|         16704|       Fiji|         13850|       Fiji|        549| 14|\n",
      "| 15|     Turkey|     526056925|     Turkey|     474413925|     Turkey|    6019058| 15|\n",
      "| 16|     Malawi|       4618570|     Malawi|       3414729|     Malawi|     146534| 16|\n",
      "| 17|       Iraq|     166448684|       Iraq|     145843021|       Iraq|    3442246| 17|\n",
      "| 18|    Germany|     458729889|    Germany|     392664956|    Germany|   11797190| 18|\n",
      "| 19|    Comoros|        510069|    Comoros|        454618|    Comoros|      16892| 19|\n",
      "+---+-----------+--------------+-----------+--------------+-----------+-----------+---+\n",
      "only showing top 20 rows\n",
      "\n"
     ]
    }
   ],
   "source": [
    "#joining joined data of conf_df and recov_df with dea_df\n",
    "conf_df.join(recov_df,[\"id\"]) \\\n",
    "     .join(dea_df,conf_df[\"id\"] == dea_df[\"id\"])\\\n",
    "     .show()"
   ]
  },
  {
   "cell_type": "code",
   "execution_count": 19,
   "id": "6b204756",
   "metadata": {},
   "outputs": [
    {
     "name": "stdout",
     "output_type": "stream",
     "text": [
      "+---+-----------+--------------+--------------+-----------+\n",
      "| id|    Country|sum(Confirmed)|sum(Recovered)|sum(Deaths)|\n",
      "+---+-----------+--------------+--------------+-----------+\n",
      "|  0|       Chad|        795278|        686509|      38341|\n",
      "|  1|   Paraguay|      32348042|      25368413|     673403|\n",
      "|  2|     Russia|     841949638|     708948906|   16283420|\n",
      "|  3|      Yemen|        842988|        449502|     214212|\n",
      "|  4|    Senegal|       7155286|       6198659|     167476|\n",
      "|  5| Cabo Verde|       3421969|       3106429|      33154|\n",
      "|  6|     Sweden|     123238302|             0|    3078055|\n",
      "|  7|     Guyana|       1784186|       1502459|      44787|\n",
      "|  8|      Burma|      25139944|      21680411|     559260|\n",
      "|  9|    Eritrea|        452505|        374647|       1041|\n",
      "| 10|Philippines|     143412277|     123141517|    2735101|\n",
      "| 11|   Djibouti|       2180594|       2017792|      23073|\n",
      "| 12|   Malaysia|      44562079|      39433161|     191494|\n",
      "| 13|  Singapore|      20365406|      19033712|      10665|\n",
      "| 14|       Fiji|         16704|         13850|        549|\n",
      "| 15|     Turkey|     526056925|     474413925|    6019058|\n",
      "| 16|     Malawi|       4618570|       3414729|     146534|\n",
      "| 17|       Iraq|     166448684|     145843021|    3442246|\n",
      "| 18|    Germany|     458729889|     392664956|   11797190|\n",
      "| 19|    Comoros|        510069|        454618|      16892|\n",
      "+---+-----------+--------------+--------------+-----------+\n",
      "only showing top 20 rows\n",
      "\n",
      "root\n",
      " |-- id: long (nullable = false)\n",
      " |-- Country: string (nullable = true)\n",
      " |-- sum(Confirmed): long (nullable = true)\n",
      " |-- sum(Recovered): long (nullable = true)\n",
      " |-- sum(Deaths): long (nullable = true)\n",
      "\n"
     ]
    }
   ],
   "source": [
    "#removing duplicated columns of id and country\n",
    "dataDF = conf_df.join(recov_df,[\"id\",\"Country\"]).join(dea_df,[\"id\",\"Country\"])\n",
    "dataDF.show()\n",
    "\n",
    "dataDF.printSchema()"
   ]
  },
  {
   "cell_type": "code",
   "execution_count": 23,
   "id": "dc5f9a3d",
   "metadata": {
    "scrolled": false
   },
   "outputs": [
    {
     "name": "stdout",
     "output_type": "stream",
     "text": [
      "+-----------+-------------+-------------+----------+\n",
      "|    Country|sum_Confirmed|sum_Recovered|sum_Deaths|\n",
      "+-----------+-------------+-------------+----------+\n",
      "|       Chad|       795278|       686509|     38341|\n",
      "|   Paraguay|     32348042|     25368413|    673403|\n",
      "|     Russia|    841949638|    708948906|  16283420|\n",
      "|      Yemen|       842988|       449502|    214212|\n",
      "|    Senegal|      7155286|      6198659|    167476|\n",
      "| Cabo Verde|      3421969|      3106429|     33154|\n",
      "|     Sweden|    123238302|            0|   3078055|\n",
      "|     Guyana|      1784186|      1502459|     44787|\n",
      "|      Burma|     25139944|     21680411|    559260|\n",
      "|    Eritrea|       452505|       374647|      1041|\n",
      "|Philippines|    143412277|    123141517|   2735101|\n",
      "|   Djibouti|      2180594|      2017792|     23073|\n",
      "|   Malaysia|     44562079|     39433161|    191494|\n",
      "|  Singapore|     20365406|     19033712|     10665|\n",
      "|       Fiji|        16704|        13850|       549|\n",
      "|     Turkey|    526056925|    474413925|   6019058|\n",
      "|     Malawi|      4618570|      3414729|    146534|\n",
      "|       Iraq|    166448684|    145843021|   3442246|\n",
      "|    Germany|    458729889|    392664956|  11797190|\n",
      "|    Comoros|       510069|       454618|     16892|\n",
      "+-----------+-------------+-------------+----------+\n",
      "only showing top 20 rows\n",
      "\n",
      "root\n",
      " |-- Country: string (nullable = true)\n",
      " |-- sum_Confirmed: long (nullable = true)\n",
      " |-- sum_Recovered: long (nullable = true)\n",
      " |-- sum_Deaths: long (nullable = true)\n",
      "\n"
     ]
    }
   ],
   "source": [
    "data = dataDF.select(col(\"Country\"),col(\"sum(Confirmed)\").alias(\"sum_Confirmed\"),\n",
    "                 col(\"sum(Recovered)\").alias(\"sum_Recovered\"),\n",
    "                 col(\"sum(Deaths)\").alias(\"sum_Deaths\"))\n",
    "data.show()\n",
    "data.printSchema()"
   ]
  },
  {
   "cell_type": "code",
   "execution_count": null,
   "id": "56a1b53c",
   "metadata": {},
   "outputs": [],
   "source": [
    "#Inserting the final dataframe data into MySQL table 'result'"
   ]
  },
  {
   "cell_type": "code",
   "execution_count": 24,
   "id": "2ee9477b",
   "metadata": {},
   "outputs": [],
   "source": [
    "url = \"jdbc:mysql://localhost/output_table\"\n",
    "properties = { \\\n",
    "        \"driver\":\"com.mysql.cj.jdbc.Driver\", \\\n",
    "        \"user\":\"savvy\", \\\n",
    "        \"password\":\"savvy@123\" \\\n",
    "        }"
   ]
  },
  {
   "cell_type": "code",
   "execution_count": 25,
   "id": "fac9e35f",
   "metadata": {},
   "outputs": [],
   "source": [
    "data.write \\\n",
    "  .format(\"jdbc\") \\\n",
    "  .option(\"driver\",\"com.mysql.cj.jdbc.Driver\") \\\n",
    "  .option(\"url\", url) \\\n",
    "  .option(\"dbtable\", \"result\") \\\n",
    "  .option(\"user\", \"savvy\") \\\n",
    "  .option(\"password\", \"savvy@123\") \\\n",
    "  .mode(\"Append\").save()"
   ]
  },
  {
   "cell_type": "code",
   "execution_count": null,
   "id": "88491924",
   "metadata": {},
   "outputs": [],
   "source": [
    "#connect to grafana\n",
    "#in localhost:3000"
   ]
  },
  {
   "cell_type": "code",
   "execution_count": null,
   "id": "4f607aa6",
   "metadata": {},
   "outputs": [],
   "source": []
  }
 ],
 "metadata": {
  "kernelspec": {
   "display_name": "Python 3 (ipykernel)",
   "language": "python",
   "name": "python3"
  },
  "language_info": {
   "codemirror_mode": {
    "name": "ipython",
    "version": 3
   },
   "file_extension": ".py",
   "mimetype": "text/x-python",
   "name": "python",
   "nbconvert_exporter": "python",
   "pygments_lexer": "ipython3",
   "version": "3.10.6"
  }
 },
 "nbformat": 4,
 "nbformat_minor": 5
}
